{
 "cells": [
  {
   "cell_type": "code",
   "execution_count": 2,
   "metadata": {},
   "outputs": [],
   "source": [
    "import h5py\n",
    "import numpy as np\n",
    "from matplotlib import pyplot as plt\n",
    "import bdpy\n",
    "\n",
    "#deep learning"
   ]
  },
  {
   "cell_type": "code",
   "execution_count": 2,
   "metadata": {},
   "outputs": [
    {
     "data": {
      "text/plain": [
       "'/Users/alex/Documents/brown/cs2470/final project/mind_readers'"
      ]
     },
     "execution_count": 2,
     "metadata": {},
     "output_type": "execute_result"
    }
   ],
   "source": [
    "%pwd"
   ]
  },
  {
   "cell_type": "code",
   "execution_count": null,
   "metadata": {},
   "outputs": [],
   "source": [
    "from os import listdir\n",
    "from os.path import isfile, join\n",
    "datapath = \"../fMRI data\"\n",
    "filenames = [f for f in listdir(datapath) if isfile(join(datapath, f))]\n",
    "filenames.sort()\n",
    "for filename in filenames:\n",
    "    with h5py.File(f'{datapath}/{filename}', \"r\") as f:\n",
    "        datanp = f[\"dataset\"][()]\n",
    "        print(f'{datanp.shape}\\t{filename}')"
   ]
  },
  {
   "cell_type": "code",
   "execution_count": 3,
   "metadata": {},
   "outputs": [],
   "source": [
    "bdata = bdpy.BData('../fMRI data/sub-01_perceptionNaturalImageTest_original_VC.h5')"
   ]
  },
  {
   "cell_type": "code",
   "execution_count": 4,
   "metadata": {},
   "outputs": [
    {
     "name": "stdout",
     "output_type": "stream",
     "text": [
      "| Key         | Description          |\n",
      "|-------------|----------------------|\n",
      "| VoxelData   | 1 = VoxelData        |\n",
      "| Run         | 1 = Run              |\n",
      "| Block       | 1 = Block            |\n",
      "| Label       | 1 = Label            |\n",
      "| image_index | Label stimulus_index |\n",
      "| stimulus_id | Label stimulus_id    |\n",
      "| voxel_x     | Voxel x coordinate   |\n",
      "| voxel_y     | Voxel y coordinate   |\n",
      "| voxel_z     | Voxel z coordinate   |\n",
      "| ROI_V1      | 1 = ROI V1           |\n",
      "| ROI_V2      | 1 = ROI V2           |\n",
      "| ROI_V3      | 1 = ROI V3           |\n",
      "| ROI_V4      | 1 = ROI V4           |\n",
      "| ROI_LOC     | 1 = ROI LOC          |\n",
      "| ROI_FFA     | 1 = ROI FFA          |\n",
      "| ROI_PPA     | 1 = ROI PPA          |\n",
      "| ROI_LVC     | 1 = ROI LVC          |\n",
      "| ROI_HVC     | 1 = ROI HVC          |\n",
      "| ROI_VC      | 1 = ROI VC           |\n"
     ]
    }
   ],
   "source": [
    "bdata.show_metadata()"
   ]
  },
  {
   "cell_type": "code",
   "execution_count": 14,
   "metadata": {},
   "outputs": [
    {
     "name": "stdout",
     "output_type": "stream",
     "text": [
      "(1200, 1)\n",
      "[[ 1.]\n",
      " [ 1.]\n",
      " [ 1.]\n",
      " ...\n",
      " [24.]\n",
      " [24.]\n",
      " [24.]]\n"
     ]
    }
   ],
   "source": [
    "runs = bdata.select('Run')\n",
    "print(runs.shape)\n",
    "print(runs)"
   ]
  },
  {
   "cell_type": "code",
   "execution_count": 17,
   "metadata": {},
   "outputs": [
    {
     "name": "stdout",
     "output_type": "stream",
     "text": [
      "(1200, 1)\n",
      "[[41.]\n",
      " [ 2.]\n",
      " [37.]\n",
      " ...\n",
      " [ 9.]\n",
      " [ 2.]\n",
      " [30.]]\n",
      "[50.]\n"
     ]
    }
   ],
   "source": [
    "indices = bdata.select('image_index')\n",
    "print(indices.shape)\n",
    "print(indices)\n",
    "print(max(indices))"
   ]
  },
  {
   "cell_type": "code",
   "execution_count": 18,
   "metadata": {},
   "outputs": [],
   "source": [
    "fmri_v1 = bdata.select('ROI_V1')  # Voxel data in V1 as a sample-by-voxel array\n",
    "image_index = bdata.select('image_index')  # Index of stimulus images for each sample\n",
    "runs = bdata.select('Run')  # Run numbers for each sample\n"
   ]
  }
 ],
 "metadata": {
  "kernelspec": {
   "display_name": "Python 3.9.13 ('DL3')",
   "language": "python",
   "name": "python3"
  },
  "language_info": {
   "codemirror_mode": {
    "name": "ipython",
    "version": 3
   },
   "file_extension": ".py",
   "mimetype": "text/x-python",
   "name": "python",
   "nbconvert_exporter": "python",
   "pygments_lexer": "ipython3",
   "version": "3.9.13"
  },
  "orig_nbformat": 4,
  "vscode": {
   "interpreter": {
    "hash": "b729d06a491c83799f985a33d8324c316d81cc08243f4d74c13bb7e320ed6ba3"
   }
  }
 },
 "nbformat": 4,
 "nbformat_minor": 2
}
