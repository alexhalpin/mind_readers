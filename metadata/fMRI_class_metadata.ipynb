{
 "cells": [
  {
   "cell_type": "markdown",
   "metadata": {},
   "source": [
    "## Get names and definitions for each image class used in natural image stimuli"
   ]
  },
  {
   "cell_type": "code",
   "execution_count": 93,
   "metadata": {},
   "outputs": [
    {
     "name": "stdout",
     "output_type": "stream",
     "text": [
      "imagenet_list_len: 1905\n"
     ]
    }
   ],
   "source": [
    "import scipy.io\n",
    "import numpy as np\n",
    "\n",
    "mat = scipy.io.loadmat('../other data/meta.mat')\n",
    "synsets = np.array(mat[\"synsets\"])\n",
    "\n",
    "imagenet_wnid_list = [row[0][1][0] for row in synsets]\n",
    "\n",
    "print(f'imagenet_list_len: {len(imagenet_wnid_list)}')"
   ]
  },
  {
   "cell_type": "code",
   "execution_count": 95,
   "metadata": {},
   "outputs": [
    {
     "name": "stdout",
     "output_type": "stream",
     "text": [
      "fmri_list_len: 1250\n"
     ]
    }
   ],
   "source": [
    "train_wnid_list = []\n",
    "with open(\"../other data/stimulus_perceptionNaturalImageTraining.tsv\") as f:\n",
    "    f = list(f)\n",
    "    train_wnid_list = [r.split('\\t')[0][:9] for r in f]\n",
    "\n",
    "test_wnid_list = []\n",
    "with open(\"../other data/stimulus_perceptionNaturalImageTest.tsv\") as f:\n",
    "    f = list(f)\n",
    "    test_wnid_list = [r.split('\\t')[0][:9] for r in f]\n",
    "\n",
    "fmri_wnid_list = train_wnid_list + test_wnid_list\n",
    "\n",
    "print(f'fmri_list_len: {len(fmri_wnid_list)}')"
   ]
  },
  {
   "cell_type": "code",
   "execution_count": 96,
   "metadata": {},
   "outputs": [],
   "source": [
    "imagenet_wnid_set = set(imagenet_wnid_list)\n",
    "fmri_wnid_set = set(fmri_wnid_list)"
   ]
  },
  {
   "cell_type": "code",
   "execution_count": 102,
   "metadata": {},
   "outputs": [
    {
     "name": "stdout",
     "output_type": "stream",
     "text": [
      "imagenet_set: 1905\n",
      "fmri_set: 200\n",
      "in_fmri_not_imagenet: 89\n"
     ]
    }
   ],
   "source": [
    "print(f'imagenet_set: {len(imagenet_wnid_set)}')\n",
    "print(f'fmri_set: {len(fmri_wnid_set)}')\n",
    "\n",
    "in_fmri_not_imagenet = fmri_wnid_set - fmri_wnid_set.intersection(imagenet_wnid_set)  # A n (B^)\n",
    "print(f'in_fmri_not_imagenet: {len(in_fmri_not_imagenet)}')"
   ]
  },
  {
   "cell_type": "code",
   "execution_count": 121,
   "metadata": {},
   "outputs": [],
   "source": [
    "fmri_unique_wnid_list = list(fmri_wnid_set)\n",
    "fmri_unique_wnid_list.sort()\n",
    "\n",
    "base_url = 'http://wordnet-rdf.princeton.edu/json/pwn30/'\n",
    "\n",
    "wnid_dict = {}\n",
    "for wnid in fmri_unique_wnid_list:\n",
    "    wnid_dict[wnid] = {'url' : f'{base_url}{wnid[1:]}-{wnid[0]}'}"
   ]
  },
  {
   "cell_type": "code",
   "execution_count": 132,
   "metadata": {},
   "outputs": [
    {
     "name": "stdout",
     "output_type": "stream",
     "text": [
      "{'definition': 'a circular rounded projection or protuberance', 'examples': [], 'lemmas': [{'lemma': 'boss', 'language': 'en', 'forms': [], 'sense_key': 'boss%1:06:00::', 'subcats': [], 'importance': 1}, {'lemma': 'knob', 'language': 'en', 'forms': [], 'sense_key': 'knob%1:06:01::', 'subcats': [], 'importance': 2}], 'id': '03631406-n', 'ili': 'i55436', 'pos': 'n', 'subject': 'noun.artifact', 'relations': [{'src_word': 'boss', 'trg_word': 'boss', 'rel_type': 'derivation', 'target': '01534053-v'}, {'src_word': None, 'trg_word': None, 'rel_type': 'hypernym', 'target': '04015323-n'}, {'src_word': None, 'trg_word': None, 'rel_type': 'hyponym', 'target': '03631709-n'}, {'src_word': None, 'trg_word': None, 'rel_type': 'hyponym', 'target': '03810914-n'}], 'old_keys': {'pwn16': ['02895469-n', '03433357-n'], 'pwn20': ['03491305-n'], 'pwn30': ['03626115-n'], 'pwn15': ['02687864-n'], 'pwn21': ['03586091-n'], 'pwn171': ['03158299-n', '03785363-n'], 'pwn17': ['03093984-n', '03710719-n']}, 'gloss': None, 'foreign': {'heb': ['גֻּלָּה'], 'tha': ['ปุ่ม'], 'ind': ['bonjol', 'bos', 'tatah', 'tombol'], 'ita': ['borchia'], 'ron': ['proeminență', 'umflătură'], 'nld': ['knobbel'], 'cmn': ['球形突出物', '瘤'], 'eus': ['konkor', 'kozkor', 'sabel'], 'zsm': ['bonjol', 'bos', 'tatah', 'tombol'], 'fin': ['nuppi', 'pahkura', 'ryhmy']}, 'links': [{'link_type': 'W3C', 'target': 'http://www.w3.org/2006/03/wn/wn20/instances/synset-knob-noun-1'}]}\n"
     ]
    }
   ],
   "source": [
    "import requests\n",
    "from random import randint\n",
    "\n",
    "random_wnid = fmri_unique_wnid_list[randint(0,len(fmri_unique_wnid_list))]\n",
    "\n",
    "sample_request_json = requests.get(wnid_dict[random_wnid]['url']).json()[0]\n",
    "print(sample_request_json)"
   ]
  },
  {
   "cell_type": "code",
   "execution_count": null,
   "metadata": {},
   "outputs": [],
   "source": [
    "import requests\n",
    "import time\n",
    "\n",
    "print(f'total: {len(fmri_unique_wnid_list)}')\n",
    "\n",
    "count = 0\n",
    "for wnid in fmri_unique_wnid_list:\n",
    "\n",
    "    req_json = requests.get(wnid_dict[wnid]['url']).json()[0]\n",
    "    names = [lemma['lemma'] for lemma in req_json['lemmas']]\n",
    "    definition = req_json['definition']\n",
    "\n",
    "    print(f'{count}\\t{names}\\n\\t{definition}')\n",
    "\n",
    "    wnid_dict[wnid]['names'] = names\n",
    "    wnid_dict[wnid]['definition'] = definition\n",
    "\n",
    "    count += 1\n",
    "    time.sleep(2)"
   ]
  },
  {
   "cell_type": "code",
   "execution_count": 137,
   "metadata": {},
   "outputs": [],
   "source": [
    "import json\n",
    "\n",
    "with open('../other data/fMRI_wnids.json', 'w') as file:\n",
    "    json.dump(wnid_dict, file, sort_keys=True, indent=4)"
   ]
  }
 ],
 "metadata": {
  "kernelspec": {
   "display_name": "Python 3.9.13 ('cs2470')",
   "language": "python",
   "name": "python3"
  },
  "language_info": {
   "codemirror_mode": {
    "name": "ipython",
    "version": 3
   },
   "file_extension": ".py",
   "mimetype": "text/x-python",
   "name": "python",
   "nbconvert_exporter": "python",
   "pygments_lexer": "ipython3",
   "version": "3.9.13"
  },
  "orig_nbformat": 4,
  "vscode": {
   "interpreter": {
    "hash": "9b8e55ef0cfee73db425eaa8eb6128edb5a682d2ae40e31a8f0ce6cfe2296a43"
   }
  }
 },
 "nbformat": 4,
 "nbformat_minor": 2
}
