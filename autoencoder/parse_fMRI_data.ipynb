{
 "cells": [
  {
   "cell_type": "code",
   "execution_count": 1,
   "metadata": {},
   "outputs": [],
   "source": [
    "import h5py\n",
    "import numpy as np\n",
    "from matplotlib import pyplot as plt\n",
    "import bdpy"
   ]
  },
  {
   "cell_type": "code",
   "execution_count": 3,
   "metadata": {},
   "outputs": [
    {
     "name": "stdout",
     "output_type": "stream",
     "text": [
      "(520, 11729)\tsub-01_imagery_original_VC.h5\n",
      "(800, 11729)\tsub-01_perceptionArtificialImage_original_VC.h5\n",
      "(120, 11729)\tsub-01_perceptionLetterImage_original_VC.h5\n",
      "(1200, 11730)\tsub-01_perceptionNaturalImageTest_original_VC.h5\n",
      "(6000, 11730)\tsub-01_perceptionNaturalImageTraining_original_VC.h5\n",
      "(520, 11117)\tsub-02_imagery_original_VC.h5\n",
      "(800, 11117)\tsub-02_perceptionArtificialImage_original_VC.h5\n",
      "(120, 11117)\tsub-02_perceptionLetterImage_original_VC.h5\n",
      "(1200, 11118)\tsub-02_perceptionNaturalImageTest_original_VC.h5\n",
      "(6000, 11118)\tsub-02_perceptionNaturalImageTraining_original_VC.h5\n",
      "(520, 9922)\tsub-03_imagery_original_VC.h5\n",
      "(800, 9922)\tsub-03_perceptionArtificialImage_original_VC.h5\n",
      "(120, 9922)\tsub-03_perceptionLetterImage_original_VC.h5\n",
      "(1200, 9923)\tsub-03_perceptionNaturalImageTest_original_VC.h5\n",
      "(6000, 9923)\tsub-03_perceptionNaturalImageTraining_original_VC.h5\n"
     ]
    }
   ],
   "source": [
    "from os import listdir\n",
    "from os.path import isfile, join\n",
    "\n",
    "# this is on my local machine, not in the github repo -alex\n",
    "datapath = \"../../fMRI data\"\n",
    "filenames = [f for f in listdir(datapath) if isfile(join(datapath, f))]\n",
    "filenames.sort()\n",
    "for filename in filenames:\n",
    "    with h5py.File(f'{datapath}/{filename}', \"r\") as f:\n",
    "        datanp = f[\"dataset\"][()]\n",
    "        print(f'{datanp.shape}\\t{filename}')"
   ]
  },
  {
   "cell_type": "code",
   "execution_count": 6,
   "metadata": {},
   "outputs": [],
   "source": [
    "bdata = bdpy.BData('../../fMRI data/sub-01_perceptionNaturalImageTest_original_VC.h5')\n",
    "bdata.show_metadata()"
   ]
  },
  {
   "cell_type": "code",
   "execution_count": 7,
   "metadata": {},
   "outputs": [
    {
     "name": "stdout",
     "output_type": "stream",
     "text": [
      "| Key         | Description          |\n",
      "|-------------|----------------------|\n",
      "| VoxelData   | 1 = VoxelData        |\n",
      "| Run         | 1 = Run              |\n",
      "| Block       | 1 = Block            |\n",
      "| Label       | 1 = Label            |\n",
      "| image_index | Label stimulus_index |\n",
      "| stimulus_id | Label stimulus_id    |\n",
      "| voxel_x     | Voxel x coordinate   |\n",
      "| voxel_y     | Voxel y coordinate   |\n",
      "| voxel_z     | Voxel z coordinate   |\n",
      "| ROI_V1      | 1 = ROI V1           |\n",
      "| ROI_V2      | 1 = ROI V2           |\n",
      "| ROI_V3      | 1 = ROI V3           |\n",
      "| ROI_V4      | 1 = ROI V4           |\n",
      "| ROI_LOC     | 1 = ROI LOC          |\n",
      "| ROI_FFA     | 1 = ROI FFA          |\n",
      "| ROI_PPA     | 1 = ROI PPA          |\n",
      "| ROI_LVC     | 1 = ROI LVC          |\n",
      "| ROI_HVC     | 1 = ROI HVC          |\n",
      "| ROI_VC      | 1 = ROI VC           |\n"
     ]
    }
   ],
   "source": []
  },
  {
   "cell_type": "code",
   "execution_count": 12,
   "metadata": {},
   "outputs": [
    {
     "name": "stdout",
     "output_type": "stream",
     "text": [
      "VoxelData (1200, 11726)\n",
      "ROI_V1 (1200, 2521)\n",
      "ROI_V2 (1200, 2370)\n",
      "ROI_V3 (1200, 1765)\n",
      "ROI_V4 (1200, 1283)\n",
      "ROI_LOC (1200, 2257)\n",
      "ROI_FFA (1200, 2100)\n",
      "ROI_PPA (1200, 767)\n",
      "ROI_LVC (1200, 6001)\n",
      "ROI_HVC (1200, 5066)\n",
      "ROI_VC (1200, 11726)\n"
     ]
    }
   ],
   "source": [
    "VoxelData = bdata.select(\"VoxelData\")\n",
    "print(\"VoxelData\", VoxelData.shape)\n",
    "\n",
    "rois = [\"ROI_V1\", \"ROI_V2\", \"ROI_V3\", \"ROI_V4\", \"ROI_LOC\", \"ROI_FFA\", \"ROI_PPA\", \"ROI_LVC\", \"ROI_HVC\", \"ROI_VC\"]\n",
    "\n",
    "for roi in rois:\n",
    "    roi_data = bdata.select(roi)\n",
    "    print(roi, roi_data.shape)"
   ]
  },
  {
   "cell_type": "code",
   "execution_count": 13,
   "metadata": {},
   "outputs": [
    {
     "data": {
      "text/plain": [
       "array([[41.],\n",
       "       [ 2.],\n",
       "       [37.],\n",
       "       ...,\n",
       "       [ 9.],\n",
       "       [ 2.],\n",
       "       [30.]])"
      ]
     },
     "execution_count": 13,
     "metadata": {},
     "output_type": "execute_result"
    }
   ],
   "source": [
    "bdata.select(\"image_index\")"
   ]
  }
 ],
 "metadata": {
  "kernelspec": {
   "display_name": "Python 3.9.13 ('cs2470')",
   "language": "python",
   "name": "python3"
  },
  "language_info": {
   "codemirror_mode": {
    "name": "ipython",
    "version": 3
   },
   "file_extension": ".py",
   "mimetype": "text/x-python",
   "name": "python",
   "nbconvert_exporter": "python",
   "pygments_lexer": "ipython3",
   "version": "3.9.13"
  },
  "orig_nbformat": 4,
  "vscode": {
   "interpreter": {
    "hash": "9b8e55ef0cfee73db425eaa8eb6128edb5a682d2ae40e31a8f0ce6cfe2296a43"
   }
  }
 },
 "nbformat": 4,
 "nbformat_minor": 2
}
