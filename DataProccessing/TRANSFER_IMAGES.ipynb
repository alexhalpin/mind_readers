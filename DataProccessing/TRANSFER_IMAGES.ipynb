{
 "cells": [
  {
   "cell_type": "code",
   "execution_count": null,
   "metadata": {},
   "outputs": [],
   "source": [
    "import tarfile\n",
    "import numpy as np"
   ]
  },
  {
   "cell_type": "code",
   "execution_count": 1,
   "metadata": {},
   "outputs": [
    {
     "ename": "FileNotFoundError",
     "evalue": "[Errno 2] No such file or directory: '../stimulus_perceptionNaturalImageTraining.tsv'",
     "output_type": "error",
     "traceback": [
      "\u001b[0;31m---------------------------------------------------------------------------\u001b[0m",
      "\u001b[0;31mFileNotFoundError\u001b[0m                         Traceback (most recent call last)",
      "Cell \u001b[0;32mIn[1], line 4\u001b[0m\n\u001b[1;32m      1\u001b[0m IMAGE_ID \u001b[38;5;241m=\u001b[39m []\n\u001b[1;32m      3\u001b[0m \u001b[38;5;66;03m# open .tsv file\u001b[39;00m\n\u001b[0;32m----> 4\u001b[0m \u001b[38;5;28;01mwith\u001b[39;00m \u001b[38;5;28;43mopen\u001b[39;49m\u001b[43m(\u001b[49m\u001b[38;5;124;43m\"\u001b[39;49m\u001b[38;5;124;43m../stimulus_perceptionNaturalImageTraining.tsv\u001b[39;49m\u001b[38;5;124;43m\"\u001b[39;49m\u001b[43m)\u001b[49m \u001b[38;5;28;01mas\u001b[39;00m f: \n\u001b[1;32m      5\u001b[0m   \u001b[38;5;66;03m# Read data line by line\u001b[39;00m\n\u001b[1;32m      7\u001b[0m   \u001b[38;5;28;01mfor\u001b[39;00m line \u001b[38;5;129;01min\u001b[39;00m f:     \n\u001b[1;32m      8\u001b[0m     \u001b[38;5;66;03m# split data by tab\u001b[39;00m\n\u001b[1;32m      9\u001b[0m     \u001b[38;5;66;03m# store it in list\u001b[39;00m\n\u001b[1;32m     10\u001b[0m     l\u001b[38;5;241m=\u001b[39mline\u001b[38;5;241m.\u001b[39msplit(\u001b[38;5;124m'\u001b[39m\u001b[38;5;130;01m\\t\u001b[39;00m\u001b[38;5;124m'\u001b[39m)\n",
      "File \u001b[0;32m/opt/miniconda3/envs/DL3/lib/python3.9/site-packages/IPython/core/interactiveshell.py:282\u001b[0m, in \u001b[0;36m_modified_open\u001b[0;34m(file, *args, **kwargs)\u001b[0m\n\u001b[1;32m    275\u001b[0m \u001b[39mif\u001b[39;00m file \u001b[39min\u001b[39;00m {\u001b[39m0\u001b[39m, \u001b[39m1\u001b[39m, \u001b[39m2\u001b[39m}:\n\u001b[1;32m    276\u001b[0m     \u001b[39mraise\u001b[39;00m \u001b[39mValueError\u001b[39;00m(\n\u001b[1;32m    277\u001b[0m         \u001b[39mf\u001b[39m\u001b[39m\"\u001b[39m\u001b[39mIPython won\u001b[39m\u001b[39m'\u001b[39m\u001b[39mt let you open fd=\u001b[39m\u001b[39m{\u001b[39;00mfile\u001b[39m}\u001b[39;00m\u001b[39m by default \u001b[39m\u001b[39m\"\u001b[39m\n\u001b[1;32m    278\u001b[0m         \u001b[39m\"\u001b[39m\u001b[39mas it is likely to crash IPython. If you know what you are doing, \u001b[39m\u001b[39m\"\u001b[39m\n\u001b[1;32m    279\u001b[0m         \u001b[39m\"\u001b[39m\u001b[39myou can use builtins\u001b[39m\u001b[39m'\u001b[39m\u001b[39m open.\u001b[39m\u001b[39m\"\u001b[39m\n\u001b[1;32m    280\u001b[0m     )\n\u001b[0;32m--> 282\u001b[0m \u001b[39mreturn\u001b[39;00m io_open(file, \u001b[39m*\u001b[39;49margs, \u001b[39m*\u001b[39;49m\u001b[39m*\u001b[39;49mkwargs)\n",
      "\u001b[0;31mFileNotFoundError\u001b[0m: [Errno 2] No such file or directory: '../stimulus_perceptionNaturalImageTraining.tsv'"
     ]
    }
   ],
   "source": [
    "IMAGE_ID = []\n",
    " \n",
    "# open .tsv file\n",
    "with open(\"../stimulus_perceptionNaturalImageTraining.tsv\") as f: \n",
    "  # Read data line by line\n",
    "\n",
    "  for line in f:     \n",
    "    # split data by tab\n",
    "    # store it in list\n",
    "    l=line.split('\\t')\n",
    "     \n",
    "    # append list to ans\n",
    "    IMAGE_ID.append(l)\n",
    "\n",
    "CLASS_ID=[]\n",
    "for i in range(len(IMAGE_ID)):\n",
    "    CLASS_ID.append(IMAGE_ID[i][0][:9])\n",
    "\n",
    "print(CLASS_ID[0])"
   ]
  },
  {
   "cell_type": "code",
   "execution_count": null,
   "metadata": {},
   "outputs": [],
   "source": [
    "#Extracts data from relevant class tar files to ./Image_Classes\n",
    "Unique_Class=np.unique(CLASS_ID)\n",
    "\n",
    "for cl in range(len(Unique_Class)):\n",
    "    print( f'/Users/kylejung/Downloads/ILSVRC2011_images_train/{Unique_Class[cl]}.tar')\n",
    "    file = tarfile.open(f'/Users/kylejung/Downloads/ILSVRC2011_images_train/{Unique_Class[cl]}.tar')\n",
    "    file.extractall('./Image_Classes')\n",
    "    file.close()\n"
   ]
  },
  {
   "cell_type": "code",
   "execution_count": null,
   "metadata": {},
   "outputs": [],
   "source": [
    "#Moves photo to right folder\n",
    "import os \n",
    "import shutil\n",
    "print(IMAGE_ID[0][0])\n",
    "\n",
    "for cl in range(len(CLASS_ID)):\n",
    "    source_folder = \"Image_Classes/\"\n",
    "    destination_folder = \"Images_InSet/\"\n",
    "    files_to_move = [f'{IMAGE_ID[cl][0]}.JPEG']\n",
    "\n",
    "    # iterate files\n",
    "    for file in files_to_move:\n",
    "        # construct full file path\n",
    "        source = source_folder + file\n",
    "        destination = destination_folder + file\n",
    "        # move file\n",
    "        shutil.move(source, destination)\n",
    "        print('Moved:', file)\n"
   ]
  }
 ],
 "metadata": {
  "kernelspec": {
   "display_name": "Python 3.9.15 ('DL3')",
   "language": "python",
   "name": "python3"
  },
  "language_info": {
   "codemirror_mode": {
    "name": "ipython",
    "version": 3
   },
   "file_extension": ".py",
   "mimetype": "text/x-python",
   "name": "python",
   "nbconvert_exporter": "python",
   "pygments_lexer": "ipython3",
   "version": "3.9.15"
  },
  "orig_nbformat": 4,
  "vscode": {
   "interpreter": {
    "hash": "b729d06a491c83799f985a33d8324c316d81cc08243f4d74c13bb7e320ed6ba3"
   }
  }
 },
 "nbformat": 4,
 "nbformat_minor": 2
}
